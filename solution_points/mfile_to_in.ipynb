{
 "cells": [
  {
   "attachments": {},
   "cell_type": "markdown",
   "metadata": {},
   "source": [
    "# Convert an output mfile to an input file\n",
    "\n",
    "First, extract the solution (optimisation parameters) from the mfile."
   ]
  },
  {
   "cell_type": "code",
   "execution_count": 1,
   "metadata": {},
   "outputs": [
    {
     "name": "stdout",
     "output_type": "stream",
     "text": [
      "Global solution = {'dene': 1.2276e+20, 'fdene': 0.86394, 'ralpne': 0.063924, 'te': 9.5609, 'beta': 0.11503, 'fbetatry': 0.79569, 'q': 6.3065, 'hfact': 1.0381, 'flhthresh': 2.7291, 'ftaulimit': 0.94688, 'fgwped': 0.10043, 'fgwsep': 0.099923, 'fne0': 0.081226, 'fradpwr': 0.68431, 'fimp(13)': 0.00069231, 'beta_div': 0.5, 'fpsepr': 1.0295, 'fiooic': 0.6599, 'thkcas': 0.2601, 'dr_tf_wp': 0.42362, 'fstrcase': 0.51781, 'fstrcond': 1.2949, 'bore': 0.15001, 'shldith': 0.41569, 'fradwall': 0.67957, 'fipir': 0.58476}\n"
     ]
    }
   ],
   "source": [
    "from process.io.mfile import MFile\n",
    "from process.io.in_dat import InDat\n",
    "from pathlib import Path\n",
    "\n",
    "MFILE_NAME = \"/home/jg6173/easyVVUQ-process/cost/MFILE.DAT\"\n",
    "ORIGINAL_IN_NAME = \"/home/jg6173/easyVVUQ-process/cost/IN.DAT\"\n",
    "SOL_IN_NAME = \"/home/jg6173/easyVVUQ-process/cost/sol_IN.DAT\"\n",
    "\n",
    "# Create Mfile object from mfile\n",
    "mfile_path = Path(MFILE_NAME)\n",
    "mfile = MFile(mfile_path)\n",
    "\n",
    "# Get number of optimisation parameters\n",
    "n = int(mfile.data[\"nvar\"].get_scan(-1))\n",
    "\n",
    "# Get all n optimisation parameter names and values from \"itvarxxx\" number\n",
    "opt_params = {}\n",
    "for i in range(n):\n",
    "    opt_param_no = f\"itvar{i+1:03}\"\n",
    "    param_name = mfile.data[opt_param_no].var_description\n",
    "    param_value = mfile.data[opt_param_no].get_scan(-1)\n",
    "    opt_params[param_name] = param_value\n",
    "\n",
    "# Print optimisation parameters at global solution\n",
    "print(f\"Global solution = {opt_params}\")"
   ]
  },
  {
   "attachments": {},
   "cell_type": "markdown",
   "metadata": {},
   "source": [
    "Now overwrite the original input file with the solution as the initial optimisation parameters."
   ]
  },
  {
   "cell_type": "code",
   "execution_count": 2,
   "metadata": {},
   "outputs": [],
   "source": [
    "# Now read in original IN.DAT\n",
    "in_dat_path = Path(ORIGINAL_IN_NAME)\n",
    "in_dat = InDat(in_dat_path)\n",
    "\n",
    "# Change to the new optimisation parameter values\n",
    "for var_name, value in opt_params.items():\n",
    "    in_dat.add_parameter(var_name, value)\n",
    "\n",
    "# Write out new IN.DAT, with optimisation parameters set to original solution\n",
    "sol_in_dat_path = Path(SOL_IN_NAME)\n",
    "in_dat.write_in_dat(sol_in_dat_path)"
   ]
  }
 ],
 "metadata": {
  "kernelspec": {
   "display_name": "process-uq",
   "language": "python",
   "name": "python3"
  },
  "language_info": {
   "codemirror_mode": {
    "name": "ipython",
    "version": 3
   },
   "file_extension": ".py",
   "mimetype": "text/x-python",
   "name": "python",
   "nbconvert_exporter": "python",
   "pygments_lexer": "ipython3",
   "version": "3.10.13"
  },
  "orig_nbformat": 4
 },
 "nbformat": 4,
 "nbformat_minor": 2
}
